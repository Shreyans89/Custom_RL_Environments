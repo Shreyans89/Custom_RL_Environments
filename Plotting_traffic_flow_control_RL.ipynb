{
 "cells": [
  {
   "cell_type": "code",
   "execution_count": 10,
   "id": "0db7bbb4-b269-4e13-a417-a535bd57d172",
   "metadata": {},
   "outputs": [],
   "source": [
    "from matplotlib.animation import PillowWriter"
   ]
  },
  {
   "cell_type": "code",
   "execution_count": 6,
   "id": "b237f302-d733-49bc-bc37-47020a3f1f7d",
   "metadata": {},
   "outputs": [],
   "source": [
    "import pickle"
   ]
  },
  {
   "cell_type": "code",
   "execution_count": 7,
   "id": "ad98f053-118a-46ba-92e7-6e6da1d7f36f",
   "metadata": {},
   "outputs": [],
   "source": [
    "import pickle\n",
    "with open('anim_x.pickle', 'rb') as handle:\n",
    "    anim_x = pickle.load(handle)"
   ]
  },
  {
   "cell_type": "code",
   "execution_count": 5,
   "id": "46deeb11-4a43-4c38-a218-815b56de5285",
   "metadata": {},
   "outputs": [
    {
     "data": {
      "text/plain": [
       "((23, 159), (23, 149))"
      ]
     },
     "execution_count": 5,
     "metadata": {},
     "output_type": "execute_result"
    }
   ],
   "source": [
    "anim_x['DDPG_100K'].shape,anim_x['Untrained'].shape"
   ]
  },
  {
   "cell_type": "code",
   "execution_count": 46,
   "id": "927814dd-1f57-4604-b580-1f1dd3a15753",
   "metadata": {},
   "outputs": [],
   "source": [
    "\n",
    "trained,untrained=anim_x['DDPG_100K'][:,i],anim_x['Untrained'][:,i]"
   ]
  },
  {
   "cell_type": "code",
   "execution_count": 59,
   "id": "87482812-b544-4e08-b557-6fa2d4a1747d",
   "metadata": {},
   "outputs": [
    {
     "data": {
      "text/plain": [
       "(array([ 0.04879751,  0.21020968,  0.42380454,  0.59870404,  0.65517716,\n",
       "         0.69741783,  0.68705267,  0.61861549,  0.53444238,  0.49134166,\n",
       "        44.28372259]),\n",
       " array([ 0.04879751,  0.21020968,  0.42380454,  0.59870404,  0.65517716,\n",
       "         0.69741783,  0.68705267,  0.61861549,  0.53444238,  0.49134166,\n",
       "        44.28372259]))"
      ]
     },
     "execution_count": 59,
     "metadata": {},
     "output_type": "execute_result"
    }
   ],
   "source": [
    "utr_x,utr_y=untrained[:-1][:(num_seg+1)],untrained[:-1][(num_seg+1):]\n",
    "utr_x,tr_x"
   ]
  },
  {
   "cell_type": "code",
   "execution_count": 39,
   "id": "9f3d1ede-daf2-426e-ae71-d965dd246286",
   "metadata": {},
   "outputs": [],
   "source": [
    "rew_train=anim_x['DDPG_100K'][10,:]"
   ]
  },
  {
   "cell_type": "code",
   "execution_count": 51,
   "id": "a177c706-ef45-4eb2-a734-0c755626a06a",
   "metadata": {
    "tags": []
   },
   "outputs": [],
   "source": [
    "rew_untrain=anim_x['Untrained'][10,:]"
   ]
  },
  {
   "cell_type": "code",
   "execution_count": 41,
   "id": "5f6e037f-c837-44a7-b33d-f77c8fd70b6c",
   "metadata": {},
   "outputs": [
    {
     "data": {
      "text/plain": [
       "(array([ 0, 62, 82], dtype=int64),)"
      ]
     },
     "execution_count": 41,
     "metadata": {},
     "output_type": "execute_result"
    }
   ],
   "source": [
    "np.where(rew_train==0)"
   ]
  },
  {
   "cell_type": "code",
   "execution_count": 45,
   "id": "a78fa860-5702-48d5-b088-56178458b7d5",
   "metadata": {},
   "outputs": [],
   "source": [
    "rew_train[62:82]+=rew_train[61]"
   ]
  },
  {
   "cell_type": "code",
   "execution_count": 48,
   "id": "b5f9c428-7ff9-46ed-9189-59c663d9c1cd",
   "metadata": {},
   "outputs": [],
   "source": [
    "rew_train[82:]+=rew_train[81]"
   ]
  },
  {
   "cell_type": "code",
   "execution_count": 52,
   "id": "33c0c09b-0afb-4c0a-9137-37641727b0ef",
   "metadata": {
    "tags": []
   },
   "outputs": [
    {
     "data": {
      "text/plain": [
       "(array([ 0, 50, 99], dtype=int64),)"
      ]
     },
     "execution_count": 52,
     "metadata": {},
     "output_type": "execute_result"
    }
   ],
   "source": [
    "np.where(rew_untrain==0)"
   ]
  },
  {
   "cell_type": "code",
   "execution_count": 53,
   "id": "aa28d552-7e7a-4fb8-bb82-60fd1b4d9024",
   "metadata": {},
   "outputs": [],
   "source": [
    "rew_untrain[50:99]+=rew_untrain[49]"
   ]
  },
  {
   "cell_type": "code",
   "execution_count": 54,
   "id": "ff512268-770b-4683-b7b9-4eb4f616e57c",
   "metadata": {},
   "outputs": [],
   "source": [
    "rew_untrain[99:]+=rew_untrain[98]"
   ]
  },
  {
   "cell_type": "code",
   "execution_count": 29,
   "id": "14bd67de-3002-4e31-92d8-1f7cbe013d32",
   "metadata": {},
   "outputs": [
    {
     "data": {
      "text/plain": [
       "0.3"
      ]
     },
     "execution_count": 29,
     "metadata": {},
     "output_type": "execute_result"
    }
   ],
   "source": [
    "round(traffic_state[-1],2)"
   ]
  },
  {
   "cell_type": "code",
   "execution_count": null,
   "id": "49c87273-e446-4677-9437-37af48609fbf",
   "metadata": {},
   "outputs": [],
   "source": [
    "rew_untrain,rew_train"
   ]
  },
  {
   "cell_type": "code",
   "execution_count": 58,
   "id": "bb33859e-d3d4-4cc5-acc6-2fccf641c3b8",
   "metadata": {
    "tags": []
   },
   "outputs": [
    {
     "data": {
      "image/png": "[encoded data removed]",
      "text/plain": [
       "<Figure size 864x648 with 4 Axes>"
      ]
     },
     "metadata": {
      "needs_background": "light"
     },
     "output_type": "display_data"
    }
   ],
   "source": [
    "fig,ax = plt.subplots(nrows=2,ncols=2,figsize=(12,9))\n",
    "\n",
    "def animate(i,num_seg=10):\n",
    "    trained,untrained=anim_x['DDPG_100K'][:,i],anim_x['Untrained'][:,i]\n",
    "    tr_sig=trained[-1]\n",
    "    utr_sig=untrained[-1]\n",
    "    tr_x,tr_y=trained[:-1][:(num_seg+1)],trained[:-1][(num_seg+1):]\n",
    "    utr_x,utr_y=untrained[:-1][:(num_seg+1)],untrained[:-1][(num_seg+1):]\n",
    "    cols=[]\n",
    "    \n",
    "    if bool(tr_sig):\n",
    "        cols+=['firebrick','darkgreen']\n",
    "        \n",
    "    else:\n",
    "        cols+=['darkgreen','firebrick']\n",
    "    if bool(utr_sig):\n",
    "        cols+=['firebrick','darkgreen']\n",
    "        \n",
    "    else:\n",
    "        cols+=['darkgreen','firebrick']\n",
    "    rews=[rew_train[i],rew_train[i],rew_untrain[i],rew_untrain[i]]\n",
    "\n",
    "    axs=[]\n",
    "    for col,rew,axis,traffic_state,label in zip(cols,rews,ax.flatten(),[tr_x,tr_y,utr_x,utr_y],[\"DDPG_Control_EW_Road\",\"DDPG_Control_NS_Road\",\n",
    "                                                                          \"Random_Control_EW_Road\",\"Random_Control_NS_Road\"]):\n",
    "        axis.clear()\n",
    "        axis.set_xlim(0,10)\n",
    "        axis.set_ylim(0,1)\n",
    "    \n",
    "        axis.bar(np.linspace(0,10,10),traffic_state[:-1],label=label,color='cyan')\n",
    "        axis.legend(loc='upper left')\n",
    "        at = AnchoredText(\n",
    "        \"cum_reward=-\"+str(round(rew,2)), prop=dict(size=10), frameon=True, loc='upper right')\n",
    "        at.patch.set_boxstyle(\"round,pad=0.,rounding_size=0.2\")\n",
    "        axis.add_artist(at)\n",
    "        axis.set_facecolor(col)\n",
    "        axs.append(axis)\n",
    "    return axs\n",
    "\n",
    "ani =FuncAnimation(fig, animate, interval=40, blit=False, repeat=False, frames=min([anim_x[model].shape[-1] for model in anim_x]))    \n",
    "ani.save(\"anim_sparse_Y.gif\", dpi=300, writer=PillowWriter(fps=1))"
   ]
  },
  {
   "cell_type": "code",
   "execution_count": 2,
   "id": "29b3e5b5-fb09-47c4-ad55-fc76d3e9c2f8",
   "metadata": {},
   "outputs": [
    {
     "data": {
      "text/plain": [
       "tuple"
      ]
     },
     "execution_count": 2,
     "metadata": {},
     "output_type": "execute_result"
    }
   ],
   "source": [
    "type(animate(10))"
   ]
  },
  {
   "cell_type": "code",
   "execution_count": null,
   "id": "25b6331c-7ee1-4c5f-bfdc-7d82637f53eb",
   "metadata": {},
   "outputs": [],
   "source": []
  }
 ],
 "metadata": {
  "kernelspec": {
   "display_name": "Python 3 (ipykernel)",
   "language": "python",
   "name": "python3"
  },
  "language_info": {
   "codemirror_mode": {
    "name": "ipython",
    "version": 3
   },
   "file_extension": ".py",
   "mimetype": "text/x-python",
   "name": "python",
   "nbconvert_exporter": "python",
   "pygments_lexer": "ipython3",
   "version": "3.9.7"
  }
 },
 "nbformat": 4,
 "nbformat_minor": 5
}
